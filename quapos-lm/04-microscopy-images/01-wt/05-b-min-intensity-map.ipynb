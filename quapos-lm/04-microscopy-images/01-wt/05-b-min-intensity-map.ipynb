{
 "cells": [
  {
   "cell_type": "code",
   "execution_count": 1,
   "id": "ed2a7816-8f4e-4b5a-86cd-ea676f5d8ae8",
   "metadata": {
    "tags": []
   },
   "outputs": [],
   "source": [
    "import apoc\n",
    "import matplotlib.pyplot as plt\n",
    "import numpy as np\n",
    "import os\n",
    "import pandas as pd\n",
    "import pyclesperanto_prototype as cle\n",
    "\n",
    "from napari_simpleitk_image_processing import label_statistics\n",
    "\n",
    "import sys\n",
    "sys.path.append(\"../../../../../../01_python_definitions\")\n",
    "from fluorescent_microscopy_analysis import predict_image, scale_bar_image, heatmap_image, rescale_image"
   ]
  },
  {
   "cell_type": "code",
   "execution_count": 2,
   "id": "60b1aebc-754c-4d1b-9c6f-f21b26f61848",
   "metadata": {
    "tags": []
   },
   "outputs": [
    {
     "data": {
      "text/plain": [
       "{'gaussian_blur=1': 0.32557488170342097,\n",
       " 'difference_of_gaussian=1': 0.4231073391932076,\n",
       " 'laplace_box_of_gaussian_blur=1': 0.25131777910337144}"
      ]
     },
     "execution_count": 2,
     "metadata": {},
     "output_type": "execute_result"
    }
   ],
   "source": [
    "quapos_lm = apoc.ObjectSegmenter(opencl_filename=\"../../01-training-and-validation/2023-07-08-kaspr-version-3.cl\")\n",
    "quapos_lm.feature_importances()"
   ]
  },
  {
   "cell_type": "code",
   "execution_count": 3,
   "id": "30cd8809-2736-4203-bad7-547b0d7dc5fb",
   "metadata": {
    "tags": []
   },
   "outputs": [],
   "source": [
    "#define file_path with images\n",
    "file_path = \"C:/Users/fsalo/Documents/studium/02-master_reg_bio/ag-ader-master-thesis/paper-quantification-of-os/figures/results/figure-2-result-classifier/images-microscopy/lm/\"\n",
    "\n",
    "save_path = \"../../plots-images/quapos-paper/sup-fig-3-images/\""
   ]
  },
  {
   "cell_type": "code",
   "execution_count": 4,
   "id": "24e62317-a443-4260-ad1c-c5a1f2b0800c",
   "metadata": {
    "tags": []
   },
   "outputs": [
    {
     "data": {
      "text/plain": [
       "['C1-p08-20x-zoom-3.5-replicate-3.tif',\n",
       " 'C1-p12-20x-zoom-flo-2.6-replicate-9.tif',\n",
       " 'C1-p16-20x-zoom-suse-1.5-replicate-19.tif',\n",
       " 'C1-p20-20x-zoom-flo-1.4-replicate-21.tif',\n",
       " 'C1-p24-20x-zoom-1.6-replicate-25.tif']"
      ]
     },
     "execution_count": 4,
     "metadata": {},
     "output_type": "execute_result"
    }
   ],
   "source": [
    "#define a filelist accordingly\n",
    "file_list = os.listdir(file_path)\n",
    "file_list"
   ]
  },
  {
   "cell_type": "code",
   "execution_count": 5,
   "id": "29dd5f24-31df-4a4b-a2f4-2e7b43c6b3d2",
   "metadata": {
    "tags": []
   },
   "outputs": [],
   "source": [
    "image_p08 = cle.imread(file_path + file_list[0])\n",
    "image_p20 = cle.imread(file_path + file_list[3])"
   ]
  },
  {
   "cell_type": "code",
   "execution_count": 6,
   "id": "90ad88e4-fcc1-4a8d-b7a9-46f466cbe0de",
   "metadata": {
    "tags": []
   },
   "outputs": [],
   "source": [
    "prediction_p08 = predict_image(image=image_p08, classifier=quapos_lm)\n",
    "prediction_p20 = predict_image(image=image_p20, classifier=quapos_lm)"
   ]
  },
  {
   "cell_type": "code",
   "execution_count": 7,
   "id": "61df812c-0523-404f-b954-b78f06ebd9a6",
   "metadata": {},
   "outputs": [],
   "source": [
    "image_p08 = rescale_image(image=image_p08, voxel_x=0.323, voxel_y=0.323, voxel_z=0.490)\n",
    "image_p20 = rescale_image(image=image_p20, voxel_x=0.323, voxel_y=0.323, voxel_z=0.490)"
   ]
  },
  {
   "cell_type": "code",
   "execution_count": 8,
   "id": "16287ad7-58ac-47c4-acf4-f4c28eaca161",
   "metadata": {
    "tags": []
   },
   "outputs": [],
   "source": [
    "prediction_p08 = rescale_image(image=prediction_p08, voxel_x=0.323, voxel_y=0.323, voxel_z=0.490)\n",
    "prediction_p20 = rescale_image(image=prediction_p20, voxel_x=0.323, voxel_y=0.323, voxel_z=0.490)"
   ]
  },
  {
   "cell_type": "code",
   "execution_count": 9,
   "id": "134a7dfd-4d1d-4f95-af99-8f9978eb1832",
   "metadata": {
    "tags": []
   },
   "outputs": [],
   "source": [
    "scale_bar, cmap = scale_bar_image(image=image_p08[15, 0:200, 600:800],\n",
    "                                  micron_length=0.323,\n",
    "                                  scale_length=25)"
   ]
  },
  {
   "cell_type": "code",
   "execution_count": 10,
   "id": "f0dea12c-2728-4082-9b37-6f5ec652090d",
   "metadata": {
    "tags": []
   },
   "outputs": [
    {
     "name": "stdout",
     "output_type": "stream",
     "text": [
      "3 3 lens\n",
      "3 3 lens\n"
     ]
    },
    {
     "data": {
      "image/png": "[encoded data removed]",
      "text/plain": [
       "<Figure size 1000x500 with 2 Axes>"
      ]
     },
     "metadata": {},
     "output_type": "display_data"
    }
   ],
   "source": [
    "fig, axs = plt.subplots(1, 2, figsize=(10, 5))\n",
    "\n",
    "cle.imshow(prediction_p08[..., 0:200, 600:800], plot=axs[0], labels=True)\n",
    "cle.imshow(prediction_p20[..., 90:290, 200:400], plot=axs[1], labels=True)"
   ]
  },
  {
   "cell_type": "code",
   "execution_count": 12,
   "id": "e84d68f5-1a89-4fd6-adcc-7109a3990a0b",
   "metadata": {
    "tags": []
   },
   "outputs": [],
   "source": [
    "statistics_p08 = label_statistics(intensity_image=image_p08,\n",
    "                                  label_image=prediction_p08,\n",
    "                                  size=True,\n",
    "                                  intensity=True)\n",
    "minimum_intensity_map_08 = heatmap_image(segmentation=prediction_p08,\n",
    "                                              dataframe=statistics_p08,\n",
    "                                              feature=\"minimum\")"
   ]
  },
  {
   "cell_type": "code",
   "execution_count": 13,
   "id": "994cbb51-69b8-41cc-acca-5258dfe138e6",
   "metadata": {
    "tags": []
   },
   "outputs": [],
   "source": [
    "statistics_p20 = label_statistics(intensity_image=image_p20,\n",
    "                                  label_image=prediction_p20,\n",
    "                                  size=True,\n",
    "                                  intensity=True)\n",
    "minimum_intensity_map_20 = heatmap_image(segmentation=prediction_p20,\n",
    "                                              dataframe=statistics_p20,\n",
    "                                              feature=\"minimum\")"
   ]
  },
  {
   "cell_type": "code",
   "execution_count": 15,
   "id": "45a92b25-de4c-4a81-89f9-5d4ba8b8c7cc",
   "metadata": {
    "tags": []
   },
   "outputs": [
    {
     "name": "stdout",
     "output_type": "stream",
     "text": [
      "3 3 lens\n",
      "3 3 lens\n"
     ]
    },
    {
     "data": {
      "image/png": "[encoded data removed]",
      "text/plain": [
       "<Figure size 1000x500 with 3 Axes>"
      ]
     },
     "metadata": {},
     "output_type": "display_data"
    }
   ],
   "source": [
    "fig, axs = plt.subplots(1, 2, figsize=(10, 5))\n",
    "\n",
    "cle.imshow(minimum_intensity_map_08[..., 0:200, 600:800], \n",
    "           plot=axs[0], \n",
    "           colormap=\"jet\",\n",
    "           max_display_intensity=250)\n",
    "cle.imshow(scale_bar,\n",
    "           plot=axs[0],\n",
    "           colormap=cmap)\n",
    "axs[0].tick_params(left = False,\n",
    "                right = False,\n",
    "                labelleft = False,\n",
    "                labelbottom = False, \n",
    "                bottom = False)\n",
    "\n",
    "cle.imshow(minimum_intensity_map_20[..., 90:290, 200:400], \n",
    "           plot=axs[1], \n",
    "           colormap=\"jet\", \n",
    "           colorbar=True,\n",
    "           max_display_intensity=250)\n",
    "cle.imshow(scale_bar,\n",
    "           plot=axs[1],\n",
    "           colormap=cmap)\n",
    "axs[1].tick_params(left = False,\n",
    "                right = False,\n",
    "                labelleft = False,\n",
    "                labelbottom = False, \n",
    "                bottom = False)\n",
    "\n",
    "plt.subplots_adjust(wspace=0.03)\n",
    "\n",
    "plt.savefig(save_path + \"02-minimum-map.png\",\n",
    "            dpi=300,\n",
    "            bbox_inches=\"tight\")"
   ]
  }
 ],
 "metadata": {
  "kernelspec": {
   "display_name": "Python 3 (ipykernel)",
   "language": "python",
   "name": "python3"
  },
  "language_info": {
   "codemirror_mode": {
    "name": "ipython",
    "version": 3
   },
   "file_extension": ".py",
   "mimetype": "text/x-python",
   "name": "python",
   "nbconvert_exporter": "python",
   "pygments_lexer": "ipython3",
   "version": "3.9.16"
  }
 },
 "nbformat": 4,
 "nbformat_minor": 5
}
