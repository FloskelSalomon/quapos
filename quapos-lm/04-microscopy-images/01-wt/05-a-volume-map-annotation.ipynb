{
 "cells": [
  {
   "cell_type": "markdown",
   "id": "04fb14f9-f97b-40ad-90e1-59b12e9e7b12",
   "metadata": {},
   "source": [
    "## Annotate volume as heatmap\n",
    "\n",
    "- annotation of measurement volume for young (P08) and old (P20)\n",
    "- function from `pyclesperanto_prototype` will be used\n",
    "    - `cle.replace_intensities` replaces the intensity of the image with a measurement of choice"
   ]
  },
  {
   "cell_type": "code",
   "execution_count": 1,
   "id": "a9c81175-7732-4da2-bf87-8d661813dab8",
   "metadata": {
    "tags": []
   },
   "outputs": [],
   "source": [
    "import apoc\n",
    "import matplotlib.pyplot as plt\n",
    "import numpy as np\n",
    "import os\n",
    "import pandas as pd\n",
    "import pyclesperanto_prototype as cle\n",
    "\n",
    "from napari_simpleitk_image_processing import label_statistics\n",
    "\n",
    "import sys\n",
    "sys.path.append(\"../../../../../../01_python_definitions\")\n",
    "from fluorescent_microscopy_analysis import predict_image, rescale_image, scale_bar_image, heatmap_image"
   ]
  },
  {
   "cell_type": "markdown",
   "id": "d35f9362-c824-4d1c-8dbd-33cd45b1a190",
   "metadata": {},
   "source": [
    "### Load pixel classifier"
   ]
  },
  {
   "cell_type": "code",
   "execution_count": 2,
   "id": "f717b16f-4acb-4689-b0de-44acabfd9dac",
   "metadata": {
    "tags": []
   },
   "outputs": [
    {
     "data": {
      "text/plain": [
       "{'gaussian_blur=1': 0.32557488170342097,\n",
       " 'difference_of_gaussian=1': 0.4231073391932076,\n",
       " 'laplace_box_of_gaussian_blur=1': 0.25131777910337144}"
      ]
     },
     "execution_count": 2,
     "metadata": {},
     "output_type": "execute_result"
    }
   ],
   "source": [
    "quapos_lm = apoc.ObjectSegmenter(opencl_filename=\"../../01-training-and-validation/2023-07-08-kaspr-version-3.cl\")\n",
    "quapos_lm.feature_importances()"
   ]
  },
  {
   "cell_type": "markdown",
   "id": "78168bc5-ad4e-4001-98cf-6b22bcaa4c6a",
   "metadata": {},
   "source": [
    "### Create a file list with the corresponding images"
   ]
  },
  {
   "cell_type": "code",
   "execution_count": 3,
   "id": "a5cdf7ab-a1f1-4e96-b231-67097d4cdd7a",
   "metadata": {
    "tags": []
   },
   "outputs": [],
   "source": [
    "#define file_path with images\n",
    "file_path = \"C:/Users/fsalo/Documents/studium/02-master_reg_bio/ag-ader-master-thesis/paper-quantification-of-os/figures/results/figure-2-result-classifier/images-microscopy/lm/\"\n",
    "\n",
    "save_path = \"../../plots-images/quapos-paper/sup-fig-3-images/\""
   ]
  },
  {
   "cell_type": "code",
   "execution_count": 4,
   "id": "7ab003e8-b570-43cb-a2be-a22daaceaf16",
   "metadata": {
    "tags": []
   },
   "outputs": [
    {
     "data": {
      "text/plain": [
       "['C1-p08-20x-zoom-3.5-replicate-3.tif',\n",
       " 'C1-p12-20x-zoom-flo-2.6-replicate-9.tif',\n",
       " 'C1-p16-20x-zoom-suse-1.5-replicate-19.tif',\n",
       " 'C1-p20-20x-zoom-flo-1.4-replicate-21.tif',\n",
       " 'C1-p24-20x-zoom-1.6-replicate-25.tif']"
      ]
     },
     "execution_count": 4,
     "metadata": {},
     "output_type": "execute_result"
    }
   ],
   "source": [
    "#define a filelist accordingly\n",
    "file_list = os.listdir(file_path)\n",
    "file_list"
   ]
  },
  {
   "cell_type": "markdown",
   "id": "574870c7-92c7-4f1b-8744-b0bf6efd997e",
   "metadata": {},
   "source": [
    "### Show prediction for early and late stage\n",
    "\n",
    "- the corresponding images from figure 2 will be loaded and predicted"
   ]
  },
  {
   "cell_type": "markdown",
   "id": "354948c9-6eaa-4515-bb77-a413e6b82b11",
   "metadata": {},
   "source": [
    "#### Load the image"
   ]
  },
  {
   "cell_type": "code",
   "execution_count": 5,
   "id": "3531d211-5bab-4e3a-94cc-cdf6593e06d4",
   "metadata": {
    "tags": []
   },
   "outputs": [],
   "source": [
    "image_p08 = cle.imread(file_path + file_list[0])\n",
    "image_p20 = cle.imread(file_path + file_list[3])"
   ]
  },
  {
   "cell_type": "markdown",
   "id": "9ac713ca-33ee-40b5-b448-c43858378acf",
   "metadata": {},
   "source": [
    "#### Predict the image"
   ]
  },
  {
   "cell_type": "code",
   "execution_count": 6,
   "id": "ce6d6e8c-e1f8-47f8-a2a3-02b1ee03b31c",
   "metadata": {},
   "outputs": [],
   "source": [
    "prediction_p08 = predict_image(image=image_p08, classifier=quapos_lm)\n",
    "prediction_p20 = predict_image(image=image_p20, classifier=quapos_lm)"
   ]
  },
  {
   "cell_type": "markdown",
   "id": "3ffd9dbe-55d0-4ed6-bec2-9adb5c7d8c45",
   "metadata": {},
   "source": [
    "#### Rescale the image"
   ]
  },
  {
   "cell_type": "code",
   "execution_count": 11,
   "id": "c3ca02c1-356b-4eff-9d70-eaa04c781ceb",
   "metadata": {
    "tags": []
   },
   "outputs": [],
   "source": [
    "image_p08 = rescale_image(image=image_p08, voxel_x=0.323, voxel_y=0.323, voxel_z=0.490)\n",
    "image_p20 = rescale_image(image=image_p20, voxel_x=0.323, voxel_y=0.323, voxel_z=0.490)"
   ]
  },
  {
   "cell_type": "markdown",
   "id": "a2f8f624-3c30-4a75-9f63-b67d16cf0249",
   "metadata": {},
   "source": [
    "#### Rescale the prediction"
   ]
  },
  {
   "cell_type": "code",
   "execution_count": 7,
   "id": "f91cd4fd-eae7-42ef-af89-cdf569eb5fc2",
   "metadata": {
    "tags": []
   },
   "outputs": [],
   "source": [
    "prediction_p08 = rescale_image(image=prediction_p08, voxel_x=0.323, voxel_y=0.323, voxel_z=0.490)\n",
    "prediction_p20 = rescale_image(image=prediction_p20, voxel_x=0.323, voxel_y=0.323, voxel_z=0.490)"
   ]
  },
  {
   "cell_type": "markdown",
   "id": "99541a2a-ccd1-404f-98ff-f0c6dadd5a47",
   "metadata": {},
   "source": [
    "#### Compute a scale bar"
   ]
  },
  {
   "cell_type": "code",
   "execution_count": 8,
   "id": "d65dac7b-3bce-4e02-8b24-734e81506ff8",
   "metadata": {
    "tags": []
   },
   "outputs": [],
   "source": [
    "scale_bar, cmap = scale_bar_image(image=image_p08[15, 0:200, 600:800],\n",
    "                                  micron_length=0.323,\n",
    "                                  scale_length=25)"
   ]
  },
  {
   "cell_type": "code",
   "execution_count": 9,
   "id": "e932548c-6c6b-4870-af17-efd1ac966dd9",
   "metadata": {
    "tags": []
   },
   "outputs": [
    {
     "name": "stdout",
     "output_type": "stream",
     "text": [
      "3 3 lens\n",
      "3 3 lens\n"
     ]
    },
    {
     "data": {
      "image/png": "[encoded data removed]",
      "text/plain": [
       "<Figure size 1000x500 with 2 Axes>"
      ]
     },
     "metadata": {},
     "output_type": "display_data"
    }
   ],
   "source": [
    "fig, axs = plt.subplots(1, 2, figsize=(10, 5))\n",
    "\n",
    "cle.imshow(prediction_p08[..., 0:200, 600:800], plot=axs[0], labels=True)\n",
    "cle.imshow(prediction_p20[..., 90:290, 200:400], plot=axs[1], labels=True)"
   ]
  },
  {
   "cell_type": "markdown",
   "id": "015f5851-3db7-47be-b64e-68d760d45de9",
   "metadata": {},
   "source": [
    "### Annotation of the volume\n",
    "\n",
    "- custom function `heatmap_annotation` requires 3 arguments:\n",
    "    - a segmentation results\n",
    "    - a dataframe with measurements\n",
    "    - a feature for the annotation\n",
    "    \n",
    "- here the volume will be annotated with the function: `label_statistics` from `napari_simpleitk_image_processing`\n",
    "\n",
    "### Compute volume map for P08"
   ]
  },
  {
   "cell_type": "code",
   "execution_count": 13,
   "id": "44de4ad0-972d-4f82-bed1-409cfe2acbf8",
   "metadata": {
    "tags": []
   },
   "outputs": [],
   "source": [
    "statistics_p08 = label_statistics(intensity_image=image_p08,\n",
    "                                  label_image=prediction_p08,\n",
    "                                  size=True,\n",
    "                                  intensity=True)\n",
    "statistics_p08[\"volume\"] = statistics_p08[\"number_of_pixels\"] * np.power(0.323, 3)\n",
    "volume_map_p08 = heatmap_image(segmentation=prediction_p08,\n",
    "                                    dataframe=statistics_p08,\n",
    "                                    feature=\"volume\")"
   ]
  },
  {
   "cell_type": "markdown",
   "id": "2fcd5739-438a-41c1-9b3c-8eae1db84dd5",
   "metadata": {},
   "source": [
    "### Compute volume map for P24"
   ]
  },
  {
   "cell_type": "code",
   "execution_count": 14,
   "id": "8bba6a6b-564f-4750-ac36-00aeb9d80d4f",
   "metadata": {
    "tags": []
   },
   "outputs": [],
   "source": [
    "statistics_p20 = label_statistics(intensity_image=image_p20,\n",
    "                                  label_image=prediction_p20,\n",
    "                                  size=True,\n",
    "                                  intensity=True)\n",
    "statistics_p20[\"volume\"] = statistics_p20[\"number_of_pixels\"] * np.power(0.323, 3)\n",
    "volume_map_p20 = heatmap_image(segmentation=prediction_p20,\n",
    "                                    dataframe=statistics_p20,\n",
    "                                    feature=\"volume\")"
   ]
  },
  {
   "cell_type": "markdown",
   "id": "bf5c7a93-5863-41a2-b77b-269563ca79ca",
   "metadata": {},
   "source": [
    "### Show volume maps next to each other"
   ]
  },
  {
   "cell_type": "code",
   "execution_count": 18,
   "id": "d98b4878-4498-4918-b751-61041e9e5bd7",
   "metadata": {
    "tags": []
   },
   "outputs": [
    {
     "name": "stdout",
     "output_type": "stream",
     "text": [
      "3 3 lens\n",
      "3 3 lens\n"
     ]
    },
    {
     "data": {
      "image/png": "[encoded data removed]",
      "text/plain": [
       "<Figure size 1000x500 with 3 Axes>"
      ]
     },
     "metadata": {},
     "output_type": "display_data"
    }
   ],
   "source": [
    "fig, axs = plt.subplots(1, 2, figsize=(10, 5))\n",
    "\n",
    "cle.imshow(volume_map_p08[..., 0:200, 600:800], \n",
    "           plot=axs[0], \n",
    "           colormap=\"jet\",\n",
    "           max_display_intensity=100)\n",
    "cle.imshow(scale_bar,\n",
    "           plot=axs[0],\n",
    "           colormap=cmap)\n",
    "axs[0].tick_params(left = False,\n",
    "                right = False,\n",
    "                labelleft = False,\n",
    "                labelbottom = False, \n",
    "                bottom = False)\n",
    "\n",
    "cle.imshow(volume_map_p20[..., 90:290, 200:400], \n",
    "           plot=axs[1], \n",
    "           colormap=\"jet\", \n",
    "           colorbar=True,\n",
    "           max_display_intensity=100)\n",
    "cle.imshow(scale_bar,\n",
    "           plot=axs[1],\n",
    "           colormap=cmap)\n",
    "axs[1].tick_params(left = False,\n",
    "                right = False,\n",
    "                labelleft = False,\n",
    "                labelbottom = False, \n",
    "                bottom = False)\n",
    "\n",
    "plt.subplots_adjust(wspace=0.03)\n",
    "\n",
    "plt.savefig(save_path + \"01-volume-map.png\",\n",
    "            dpi=300,\n",
    "            bbox_inches=\"tight\")"
   ]
  }
 ],
 "metadata": {
  "kernelspec": {
   "display_name": "Python 3 (ipykernel)",
   "language": "python",
   "name": "python3"
  },
  "language_info": {
   "codemirror_mode": {
    "name": "ipython",
    "version": 3
   },
   "file_extension": ".py",
   "mimetype": "text/x-python",
   "name": "python",
   "nbconvert_exporter": "python",
   "pygments_lexer": "ipython3",
   "version": "3.9.16"
  }
 },
 "nbformat": 4,
 "nbformat_minor": 5
}
