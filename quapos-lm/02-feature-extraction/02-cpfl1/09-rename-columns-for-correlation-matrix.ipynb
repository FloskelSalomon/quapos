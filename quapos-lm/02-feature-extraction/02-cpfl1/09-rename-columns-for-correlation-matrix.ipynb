{
 "cells": [
  {
   "cell_type": "markdown",
   "id": "ca210627-2bf4-4ed9-a9b2-7f0a42070c92",
   "metadata": {},
   "source": [
    "## Rename columns for correlation matrix\n",
    "\n",
    "For better visualisation of the correlation matrix the column names are renamed. This include:\n",
    "\n",
    "- turning bounding box 3, 4, and 5 to their actual width, height, and depth parameters\n",
    "- turning equivalent ellipsoid diameter 0, 1, and 2 into their actual height, width, and depth parameters\n",
    "- removing the \"rescaled\" from the size parameteres\n",
    "- properly label intensity parameters"
   ]
  },
  {
   "cell_type": "code",
   "execution_count": 1,
   "id": "137c5078-451b-43c0-8637-269e765e9d64",
   "metadata": {
    "tags": []
   },
   "outputs": [],
   "source": [
    "import numpy as np\n",
    "import pandas as pd"
   ]
  },
  {
   "cell_type": "code",
   "execution_count": 3,
   "id": "cfb41a29-e313-4c33-b609-561292956153",
   "metadata": {
    "tags": []
   },
   "outputs": [
    {
     "data": {
      "text/plain": [
       "Index(['image_id', 'age', 'maximum', 'mean', 'median', 'minimum', 'sigma',\n",
       "       'sum', 'variance', 'flatness', 'elongation', 'sphericity', 'solidity',\n",
       "       'bbox_3_rescaled', 'bbox_4_rescaled', 'bbox_5_rescaled',\n",
       "       'equivalent_ellipsoid_diameter_0_rescaled',\n",
       "       'equivalent_ellipsoid_diameter_1_rescaled',\n",
       "       'equivalent_ellipsoid_diameter_2_rescaled',\n",
       "       'equivalent_spherical_perimeter_rescaled',\n",
       "       'equivalent_spherical_radius_rescaled', 'feret_diameter_rescaled',\n",
       "       'perimeter_2d_rescaled', 'major_axis_length_2d_rescaled',\n",
       "       'minor_axis_length_2d_rescaled', 'surface_area_rescaled',\n",
       "       'bbox_volume_rescaled', 'convex_volume_rescaled', 'volume_rescaled',\n",
       "       'label', 'genotype', 'summed_volume'],\n",
       "      dtype='object')"
      ]
     },
     "execution_count": 3,
     "metadata": {},
     "output_type": "execute_result"
    }
   ],
   "source": [
    "# Define path were measurements are stored\n",
    "path = \"../../measurements/cpfl/\"\n",
    "\n",
    "# Load dataset\n",
    "measurements = pd.read_csv(path + \"08-features-processed.csv\")\n",
    "measurements.keys()"
   ]
  },
  {
   "cell_type": "markdown",
   "id": "d31c2a99-5a36-4838-b308-b9c0cb6782ae",
   "metadata": {},
   "source": [
    "### Rename the features\n",
    "\n",
    "To rename the features a dictionary will be defined."
   ]
  },
  {
   "cell_type": "code",
   "execution_count": 4,
   "id": "b15b6ef0-74cc-4bcf-99d9-e137cd9a549a",
   "metadata": {
    "tags": []
   },
   "outputs": [],
   "source": [
    "# Define dictionary to rename columns\n",
    "column_names = {\"label\": \"label\",\n",
    "                \"age\": \"age\",\n",
    "                \"maximum\": \"max_intensity\",\n",
    "                \"mean\": \"mean_intensity\",\n",
    "                \"median\": \"median_intensity\",\n",
    "                \"minimum\": \"minimum_intensity\",\n",
    "                \"sigma\": \"sigma_intensity\",\n",
    "                \"sum\": \"sum_intensity\",\n",
    "                \"variance\": \"variance_intensity\",\n",
    "                \"bbox_3_rescaled\": \"bbox_width\",\n",
    "                \"bbox_4_rescaled\": \"bbox_height\",\n",
    "                \"bbox_5_rescaled\": \"bbox_depth\",\n",
    "                \"equivalent_ellipsoid_diameter_0_rescaled\": \"equivalent_ellipsoid_diameter_depth\",\n",
    "                \"equivalent_ellipsoid_diameter_1_rescaled\": \"equivalent_ellipsoid_diameter_width\",\n",
    "                \"equivalent_ellipsoid_diameter_2_rescaled\": \"equivalent_ellipsoid_diameter_height\",\n",
    "                \"equivalent_spherical_perimeter_rescaled\": \"equivalent_spherical_perimeter\",\n",
    "                \"equivalent_spherical_radius_rescaled\": \"equivalent_spherical_radius\",\n",
    "                \"feret_diameter_rescaled\": \"feret_diamter\",\n",
    "                \"perimeter_2d_rescaled\": \"perimeter_2d\",\n",
    "                \"major_axis_length_2d_rescaled\": \"major_axis_length_2d\",\n",
    "                \"minor_axis_length_2d_rescaled\": \"minor_axis_length_2d\",\n",
    "                \"surface_area_rescaled\": \"surface_area\",\n",
    "                \"bbox_volume_rescaled\": \"bbox_volume\",\n",
    "                \"volume_rescaled\": \"volume\",\n",
    "                \"summed_volume_mean\": \"summed_volume\"}"
   ]
  },
  {
   "cell_type": "code",
   "execution_count": 5,
   "id": "de11a14c-ccad-4c38-aabd-73628426b97f",
   "metadata": {
    "tags": []
   },
   "outputs": [
    {
     "data": {
      "text/plain": [
       "Index(['image_id', 'age', 'max_intensity', 'mean_intensity',\n",
       "       'median_intensity', 'minimum_intensity', 'sigma_intensity',\n",
       "       'sum_intensity', 'variance_intensity', 'flatness', 'elongation',\n",
       "       'sphericity', 'solidity', 'bbox_width', 'bbox_height', 'bbox_depth',\n",
       "       'equivalent_ellipsoid_diameter_depth',\n",
       "       'equivalent_ellipsoid_diameter_width',\n",
       "       'equivalent_ellipsoid_diameter_height',\n",
       "       'equivalent_spherical_perimeter', 'equivalent_spherical_radius',\n",
       "       'feret_diamter', 'perimeter_2d', 'major_axis_length_2d',\n",
       "       'minor_axis_length_2d', 'surface_area', 'bbox_volume',\n",
       "       'convex_volume_rescaled', 'volume', 'label', 'genotype',\n",
       "       'summed_volume'],\n",
       "      dtype='object')"
      ]
     },
     "execution_count": 5,
     "metadata": {},
     "output_type": "execute_result"
    }
   ],
   "source": [
    "# Rename the columns\n",
    "measurements.rename(columns=column_names, inplace=True)\n",
    "measurements.keys()"
   ]
  },
  {
   "cell_type": "code",
   "execution_count": 6,
   "id": "3841b7f6-5c7f-4bba-b167-34c81f939be5",
   "metadata": {
    "tags": []
   },
   "outputs": [],
   "source": [
    "measurements.to_csv(path + \"09-columns-renamed.csv\", index=False)"
   ]
  }
 ],
 "metadata": {
  "kernelspec": {
   "display_name": "Python 3 (ipykernel)",
   "language": "python",
   "name": "python3"
  },
  "language_info": {
   "codemirror_mode": {
    "name": "ipython",
    "version": 3
   },
   "file_extension": ".py",
   "mimetype": "text/x-python",
   "name": "python",
   "nbconvert_exporter": "python",
   "pygments_lexer": "ipython3",
   "version": "3.9.16"
  }
 },
 "nbformat": 4,
 "nbformat_minor": 5
}
