{
 "cells": [
  {
   "cell_type": "markdown",
   "id": "79c9d1b8-07b4-4c22-bdc5-e9f7b05a97e6",
   "metadata": {},
   "source": [
    "## Heatmap of the BBox Height"
   ]
  },
  {
   "cell_type": "code",
   "execution_count": 1,
   "id": "a8a73bcb-9629-49b6-86d2-3375b6252f68",
   "metadata": {
    "tags": []
   },
   "outputs": [],
   "source": [
    "import apoc\n",
    "import matplotlib.pyplot as plt\n",
    "import numpy as np\n",
    "import os\n",
    "import pandas as pd\n",
    "import pyclesperanto_prototype as cle\n",
    "\n",
    "from napari_simpleitk_image_processing import label_statistics\n",
    "\n",
    "import sys\n",
    "sys.path.append(\"../../../../../../01_python_definitions\")\n",
    "from fluorescent_microscopy_analysis import predict_image, scale_bar_image, heatmap_image, rescale_image"
   ]
  },
  {
   "cell_type": "code",
   "execution_count": 2,
   "id": "bff59dd4-0133-4589-bea9-63ae4503c876",
   "metadata": {
    "tags": []
   },
   "outputs": [
    {
     "data": {
      "text/plain": [
       "{'gaussian_blur=1': 0.32557488170342097,\n",
       " 'difference_of_gaussian=1': 0.4231073391932076,\n",
       " 'laplace_box_of_gaussian_blur=1': 0.25131777910337144}"
      ]
     },
     "execution_count": 2,
     "metadata": {},
     "output_type": "execute_result"
    }
   ],
   "source": [
    "quapos_lm = apoc.ObjectSegmenter(opencl_filename=\"../../01-training-and-validation/2023-07-08-kaspr-version-3.cl\")\n",
    "quapos_lm.feature_importances()"
   ]
  },
  {
   "cell_type": "code",
   "execution_count": 3,
   "id": "172518c4-a487-4184-8c56-f7ee038ff639",
   "metadata": {
    "tags": []
   },
   "outputs": [],
   "source": [
    "#define file_path with images\n",
    "file_path = \"C:/Users/fsalo/Documents/studium/02-master_reg_bio/ag-ader-master-thesis/paper-quantification-of-os/figures/results/figure-2-result-classifier/images-microscopy/lm/\"\n",
    "\n",
    "save_path = \"../../plots-images/quapos-paper/sup-fig-3-images/\""
   ]
  },
  {
   "cell_type": "code",
   "execution_count": 4,
   "id": "3a81326f-cd93-4ebf-a454-4c13981e0cb1",
   "metadata": {
    "tags": []
   },
   "outputs": [
    {
     "data": {
      "text/plain": [
       "['C1-p08-20x-zoom-3.5-replicate-3.tif',\n",
       " 'C1-p12-20x-zoom-flo-2.6-replicate-9.tif',\n",
       " 'C1-p16-20x-zoom-suse-1.5-replicate-19.tif',\n",
       " 'C1-p20-20x-zoom-flo-1.4-replicate-21.tif',\n",
       " 'C1-p24-20x-zoom-1.6-replicate-25.tif']"
      ]
     },
     "execution_count": 4,
     "metadata": {},
     "output_type": "execute_result"
    }
   ],
   "source": [
    "#define a filelist accordingly\n",
    "file_list = os.listdir(file_path)\n",
    "file_list"
   ]
  },
  {
   "cell_type": "code",
   "execution_count": 5,
   "id": "a95bfdf3-fd9f-44a9-bde4-da3aad8f07b7",
   "metadata": {
    "tags": []
   },
   "outputs": [],
   "source": [
    "image_p08 = cle.imread(file_path + file_list[0])\n",
    "image_p20 = cle.imread(file_path + file_list[3])"
   ]
  },
  {
   "cell_type": "code",
   "execution_count": 6,
   "id": "8ad62052-1f1e-4c27-a550-9336c86ea3b2",
   "metadata": {
    "tags": []
   },
   "outputs": [],
   "source": [
    "prediction_p08 = predict_image(image=image_p08, classifier=quapos_lm)\n",
    "prediction_p20 = predict_image(image=image_p20, classifier=quapos_lm)"
   ]
  },
  {
   "cell_type": "code",
   "execution_count": 7,
   "id": "0598da0c-4cd3-426d-b5f7-7b3ac254b8f3",
   "metadata": {
    "tags": []
   },
   "outputs": [],
   "source": [
    "image_p08 = rescale_image(image=image_p08, voxel_x=0.323, voxel_y=0.323, voxel_z=0.490)\n",
    "image_p20 = rescale_image(image=image_p20, voxel_x=0.323, voxel_y=0.323, voxel_z=0.490)"
   ]
  },
  {
   "cell_type": "code",
   "execution_count": 8,
   "id": "33c80ac6-462c-4c75-9897-edc5018f5ea8",
   "metadata": {},
   "outputs": [],
   "source": [
    "prediction_p08 = rescale_image(image=prediction_p08, voxel_x=0.323, voxel_y=0.323, voxel_z=0.490)\n",
    "prediction_p20 = rescale_image(image=prediction_p20, voxel_x=0.323, voxel_y=0.323, voxel_z=0.490)"
   ]
  },
  {
   "cell_type": "code",
   "execution_count": 9,
   "id": "6d73df94-ce09-40cf-a9d6-3bd8de1404c0",
   "metadata": {
    "tags": []
   },
   "outputs": [],
   "source": [
    "scale_bar, cmap = scale_bar_image(image=image_p08[15, 0:200, 600:800],\n",
    "                                  micron_length=0.323,\n",
    "                                  scale_length=25)"
   ]
  },
  {
   "cell_type": "code",
   "execution_count": 10,
   "id": "67d48cbd-1c4f-4f2d-97da-ff9d4136b06f",
   "metadata": {
    "tags": []
   },
   "outputs": [
    {
     "name": "stdout",
     "output_type": "stream",
     "text": [
      "3 3 lens\n",
      "3 3 lens\n"
     ]
    },
    {
     "data": {
      "image/png": "[encoded data removed]",
      "text/plain": [
       "<Figure size 1000x500 with 2 Axes>"
      ]
     },
     "metadata": {},
     "output_type": "display_data"
    }
   ],
   "source": [
    "fig, axs = plt.subplots(1, 2, figsize=(10, 5))\n",
    "\n",
    "cle.imshow(prediction_p08[..., 0:200, 600:800], plot=axs[0], labels=True)\n",
    "cle.imshow(prediction_p20[..., 90:290, 200:400], plot=axs[1], labels=True)"
   ]
  },
  {
   "cell_type": "code",
   "execution_count": 11,
   "id": "01787644-183f-470e-bf84-dc0db8831ed9",
   "metadata": {
    "tags": []
   },
   "outputs": [],
   "source": [
    "statistics_p08 = label_statistics(intensity_image=image_p08,\n",
    "                                  label_image=prediction_p08,\n",
    "                                  position=True)\n",
    "statistics_p08[\"bbox_height\"] = statistics_p08[\"bbox_4\"] * 0.323\n",
    "bbox_height_map_08 = heatmap_image(segmentation=prediction_p08,\n",
    "                                              dataframe=statistics_p08,\n",
    "                                              feature=\"bbox_height\")"
   ]
  },
  {
   "cell_type": "code",
   "execution_count": 12,
   "id": "4943c11a-995e-42d0-a466-1acd006f0b70",
   "metadata": {
    "tags": []
   },
   "outputs": [],
   "source": [
    "statistics_p20 = label_statistics(intensity_image=image_p20,\n",
    "                                  label_image=prediction_p20,\n",
    "                                  position=True)\n",
    "statistics_p20[\"bbox_height\"] = statistics_p20[\"bbox_4\"] * 0.323\n",
    "bbox_height_map_20 = heatmap_image(segmentation=prediction_p20,\n",
    "                                              dataframe=statistics_p20,\n",
    "                                              feature=\"bbox_height\")"
   ]
  },
  {
   "cell_type": "code",
   "execution_count": 13,
   "id": "779796c9-ce4a-48a3-a488-b135e90d8fa5",
   "metadata": {
    "tags": []
   },
   "outputs": [
    {
     "name": "stdout",
     "output_type": "stream",
     "text": [
      "3 3 lens\n",
      "3 3 lens\n"
     ]
    },
    {
     "data": {
      "image/png": "[encoded data removed]",
      "text/plain": [
       "<Figure size 1000x500 with 3 Axes>"
      ]
     },
     "metadata": {},
     "output_type": "display_data"
    }
   ],
   "source": [
    "fig, axs = plt.subplots(1, 2, figsize=(10, 5))\n",
    "\n",
    "cle.imshow(bbox_height_map_08[..., 0:200, 600:800], \n",
    "           plot=axs[0], \n",
    "           colormap=\"jet\",\n",
    "           max_display_intensity=15)\n",
    "cle.imshow(scale_bar,\n",
    "           plot=axs[0],\n",
    "           colormap=cmap)\n",
    "axs[0].tick_params(left = False,\n",
    "                right = False,\n",
    "                labelleft = False,\n",
    "                labelbottom = False, \n",
    "                bottom = False)\n",
    "\n",
    "cle.imshow(bbox_height_map_20[..., 90:290, 200:400], \n",
    "           plot=axs[1], \n",
    "           colormap=\"jet\", \n",
    "           colorbar=True,\n",
    "           max_display_intensity=15)\n",
    "cle.imshow(scale_bar,\n",
    "           plot=axs[1],\n",
    "           colormap=cmap)\n",
    "axs[1].tick_params(left = False,\n",
    "                right = False,\n",
    "                labelleft = False,\n",
    "                labelbottom = False, \n",
    "                bottom = False)\n",
    "\n",
    "plt.subplots_adjust(wspace=0.03)\n",
    "\n",
    "plt.savefig(save_path + \"03-bbox-height-map.png\",\n",
    "            dpi=300,\n",
    "            bbox_inches=\"tight\")"
   ]
  }
 ],
 "metadata": {
  "kernelspec": {
   "display_name": "Python 3 (ipykernel)",
   "language": "python",
   "name": "python3"
  },
  "language_info": {
   "codemirror_mode": {
    "name": "ipython",
    "version": 3
   },
   "file_extension": ".py",
   "mimetype": "text/x-python",
   "name": "python",
   "nbconvert_exporter": "python",
   "pygments_lexer": "ipython3",
   "version": "3.9.16"
  }
 },
 "nbformat": 4,
 "nbformat_minor": 5
}
