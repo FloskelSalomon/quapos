{
 "cells": [
  {
   "cell_type": "markdown",
   "id": "afe790bf-aa19-45d3-945d-6ee9604a00d0",
   "metadata": {},
   "source": [
    "## Images for figure 2, model validation\n",
    "\n",
    "Here the images for the figure model validation are processed within a jupyter-notebook. The annotation were drawn in napari, but are here visualised with clesperanto imshow and a respective function.\n",
    "\n",
    "The images include:\n",
    "- a raw intensity image of the training and test dataset\n",
    "- an annotated image of the training dataset\n",
    "- a predicted image by the classifier\n",
    "- a annotated image for comparison with the classifier"
   ]
  },
  {
   "cell_type": "code",
   "execution_count": 1,
   "id": "0ec80ec6-8055-4eb5-a29c-c69a9a1b1f8a",
   "metadata": {
    "tags": []
   },
   "outputs": [],
   "source": [
    "import apoc\n",
    "import matplotlib.colors\n",
    "import matplotlib.pyplot as plt\n",
    "import numpy as np\n",
    "import pyclesperanto_prototype as cle\n",
    "\n",
    "from napari.utils.colormaps import low_discrepancy_image, label_colormap\n",
    "\n",
    "import sys\n",
    "sys.path.append(\"../../\")\n",
    "from quapos_lm import scale_bar_image, predict_image"
   ]
  },
  {
   "cell_type": "code",
   "execution_count": 2,
   "id": "e97f25a0-04ff-47b0-9b31-1dca1f787083",
   "metadata": {
    "tags": []
   },
   "outputs": [
    {
     "data": {
      "text/plain": [
       "{'gaussian_blur=1': 0.32557488170342097,\n",
       " 'difference_of_gaussian=1': 0.4231073391932076,\n",
       " 'laplace_box_of_gaussian_blur=1': 0.25131777910337144}"
      ]
     },
     "execution_count": 2,
     "metadata": {},
     "output_type": "execute_result"
    }
   ],
   "source": [
    "# Load classifier\n",
    "quapos_lm = apoc.ObjectSegmenter(opencl_filename = \"../../01-training-and-validation/02-quapos-lm.cl\")\n",
    "quapos_lm.feature_importances()"
   ]
  },
  {
   "cell_type": "code",
   "execution_count": 3,
   "id": "8f12abd0-a325-40b2-b745-8f71ba52886e",
   "metadata": {
    "tags": []
   },
   "outputs": [],
   "source": [
    "# Define path where processed images are stored\n",
    "save_path = \"../../plots-images/quapos-paper/figure-2-images/\""
   ]
  },
  {
   "cell_type": "markdown",
   "id": "4fff38bb-bc2e-44eb-b6ac-46479d8eb401",
   "metadata": {},
   "source": [
    "### Visualisation of the training data\n",
    "\n",
    "Here the images from the training data are turned into a figure. Hence, one image of the training dataset is loaded. The annotated image is actually artificially computed, the ground truth annotation shown in the image was not used to train the classifier, but is used here for better visualisation.\n",
    "\n",
    "#### Compute intensity image"
   ]
  },
  {
   "cell_type": "code",
   "execution_count": 4,
   "id": "8d7dc5df-0a4e-4307-8d20-8ee154f3b7fe",
   "metadata": {
    "tags": []
   },
   "outputs": [],
   "source": [
    "# Define path were training data is stored\n",
    "training_data = \"../../data/02-data-for-pixel-classifier/training-data/\""
   ]
  },
  {
   "cell_type": "code",
   "execution_count": 5,
   "id": "7ea1c816-1673-4899-9cf5-3b4347d5ae2a",
   "metadata": {
    "tags": []
   },
   "outputs": [],
   "source": [
    "# Load and crop the image\n",
    "training_image = cle.imread(training_data + \"b-cropped-renamed/g.tif\")\n",
    "training_image = training_image[15, 10:90, 0:80]"
   ]
  },
  {
   "cell_type": "code",
   "execution_count": 6,
   "id": "3444e495-89c3-4b70-9d1d-f4fa562d4d66",
   "metadata": {
    "tags": []
   },
   "outputs": [],
   "source": [
    "# Compute a scale bar\n",
    "scale_bar, scale_colour = scale_bar_image(training_image,\n",
    "                                          scale_length=10,\n",
    "                                          micron_length=0.323,\n",
    "                                          thickness=2)"
   ]
  },
  {
   "cell_type": "code",
   "execution_count": 7,
   "id": "444e186d-9042-449d-b2ce-9486422209a7",
   "metadata": {
    "tags": []
   },
   "outputs": [
    {
     "data": {
      "image/png": "[encoded data removed]",
      "text/plain": [
       "<Figure size 1000x1000 with 1 Axes>"
      ]
     },
     "metadata": {},
     "output_type": "display_data"
    }
   ],
   "source": [
    "# Define figsize and subplots\n",
    "fig, axs = plt.subplots(1, 2, figsize=(10,10))\n",
    "\n",
    "# Remove unwanted subplots slot\n",
    "axs[1].remove()\n",
    "\n",
    "# Show intensity image and scale bar\n",
    "cle.imshow(training_image, plot = axs[0])\n",
    "cle.imshow(scale_bar, plot=axs[0], colormap=scale_colour)\n",
    "\n",
    "# Remove ticks\n",
    "axs[0].tick_params(left = False,\n",
    "                right = False,\n",
    "                labelleft = False,\n",
    "                labelbottom = False, \n",
    "                bottom = False)\n",
    "\n",
    "plt.savefig(save_path + \"03-a-training-data-intensity-image.png\",\n",
    "            dpi=300,\n",
    "            bbox_inches=\"tight\")"
   ]
  },
  {
   "cell_type": "markdown",
   "id": "2284b248-7e41-41d9-8186-e997e76db336",
   "metadata": {},
   "source": [
    "#### Load annotation"
   ]
  },
  {
   "cell_type": "code",
   "execution_count": 8,
   "id": "e626e95e-5d66-459b-a63d-2fdfd1a5b949",
   "metadata": {
    "tags": []
   },
   "outputs": [],
   "source": [
    "# Load the annotated image and crop\n",
    "annotated_image = cle.imread(training_data + \"m-training-data-image-for-figure/g.tif\")"
   ]
  },
  {
   "cell_type": "code",
   "execution_count": 9,
   "id": "c950bb20-15d4-460b-a3e1-40aacc7ffa5b",
   "metadata": {
    "tags": []
   },
   "outputs": [
    {
     "data": {
      "image/png": "[encoded data removed]",
      "text/html": [
       "<div style=\"vertical-align: middle;\"><strong>from_list</strong> </div><div class=\"cmap\"><img alt=\"from_list colormap\" title=\"from_list\" style=\"border: 1px solid #555;\" src=\"data:image/png;base64,iVBORw0KGgoAAAANSUhEUgAAAgAAAABACAYAAABsv8+/AAAAGHRFWHRUaXRsZQBmcm9tX2xpc3QgY29sb3JtYXBDL89FAAAAHnRFWHREZXNjcmlwdGlvbgBmcm9tX2xpc3QgY29sb3JtYXABtCnOAAAAMHRFWHRBdXRob3IATWF0cGxvdGxpYiB2My43LjAsIGh0dHBzOi8vbWF0cGxvdGxpYi5vcmePJGhDAAAAMnRFWHRTb2Z0d2FyZQBNYXRwbG90bGliIHYzLjcuMCwgaHR0cHM6Ly9tYXRwbG90bGliLm9yZ6GC92QAAAE0SURBVHic7dZBEYAwAMCwDf82UIWYIQFe7LgmCvrsHPAT6xxrdwM8mdfuAnjn2B0AAHzPAABAkAEAgCADAABBBgAAggwAAAQZAAAIMgAAEGQAACDIAABAkAEAgCADAABBBgAAggwAAAQZAAAIMgAAEGQAACDIAABAkAEAgCADAABBBgAAggwAAAQZAAAIMgAAEGQAACDIAABAkAEAgCADAABBBgAAggwAAAQZAAAIMgAAEGQAACDIAABAkAEAgCADAABBBgAAggwAAAQZAAAIMgAAEGQAACDIAABAkAEAgCADAABBBgAAggwAAAQZAAAIMgAAEGQAACDIAABAkAEAgCADAABBBgAAggwAAAQZAAAIMgAAEGQAACDIAABAkAEAgCADAABBBgAAggwAAAQZAAAIugG4KwP/h1bK/AAAAABJRU5ErkJggg==\"></div><div style=\"vertical-align: middle; max-width: 514px; display: flex; justify-content: space-between;\"><div style=\"float: left;\"><div title=\"#00000000\" style=\"display: inline-block; width: 1em; height: 1em; margin: 0; vertical-align: middle; border: 1px solid #555; background-color: #00000000;\"></div> under</div><div style=\"margin: 0 auto; display: inline-block;\">bad <div title=\"#00000000\" style=\"display: inline-block; width: 1em; height: 1em; margin: 0; vertical-align: middle; border: 1px solid #555; background-color: #00000000;\"></div></div><div style=\"float: right;\">over <div title=\"#008000ff\" style=\"display: inline-block; width: 1em; height: 1em; margin: 0; vertical-align: middle; border: 1px solid #555; background-color: #008000ff;\"></div></div>"
      ],
      "text/plain": [
       "<matplotlib.colors.ListedColormap at 0x14b4ff43be0>"
      ]
     },
     "execution_count": 9,
     "metadata": {},
     "output_type": "execute_result"
    }
   ],
   "source": [
    "# Define colormap to display annotation over intensity image properly\n",
    "annotation_cmap = matplotlib.colors.ListedColormap([\"None\", \"orange\", \"green\"])\n",
    "annotation_cmap"
   ]
  },
  {
   "cell_type": "code",
   "execution_count": 10,
   "id": "02751225-e6ab-49f0-bb1e-decdbd0567aa",
   "metadata": {
    "tags": []
   },
   "outputs": [
    {
     "data": {
      "image/png": "[encoded data removed]",
      "text/plain": [
       "<Figure size 1000x1000 with 1 Axes>"
      ]
     },
     "metadata": {},
     "output_type": "display_data"
    }
   ],
   "source": [
    "# Define figsize and subplots\n",
    "fig, axs = plt.subplots(1, 2, figsize=(10,10))\n",
    "\n",
    "# Remove unwanted subplots slot\n",
    "axs[1].remove()\n",
    "\n",
    "# Show intensity image and scale bar\n",
    "cle.imshow(training_image, plot=axs[0])\n",
    "cle.imshow(annotated_image, plot=axs[0], colormap=annotation_cmap)\n",
    "\n",
    "# Remove ticks\n",
    "axs[0].tick_params(left = False,\n",
    "                right = False,\n",
    "                labelleft = False,\n",
    "                labelbottom = False, \n",
    "                bottom = False)\n",
    "\n",
    "plt.savefig(save_path + \"03-b-training-data-annotated.png\",\n",
    "            dpi=300,\n",
    "            bbox_inches=\"tight\")"
   ]
  },
  {
   "cell_type": "markdown",
   "id": "b5dd6b9a-cba1-4030-a058-c5e657d25c15",
   "metadata": {},
   "source": [
    "### Visualisation of the test data\n",
    "\n",
    "Here the images from the test dataset are loaded and turned into a figure. The following images are computed:\n",
    "\n",
    "- test dataset intensity image\n",
    "- test dataset prediction\n",
    "- test dataset ground truth annotation for comparison with prediction\n",
    "\n",
    "#### Intensity image\n",
    "\n",
    "Since the test and training image were obtained with the same microscopy and objective, the same scale bar will be used for the visualisation."
   ]
  },
  {
   "cell_type": "code",
   "execution_count": 11,
   "id": "f8c2383e-171e-4493-b28f-fe14de80480a",
   "metadata": {
    "tags": []
   },
   "outputs": [],
   "source": [
    "# Define file path where test dataset is stored\n",
    "test_data = \"../../data/02-data-for-pixel-classifier/test-data/\""
   ]
  },
  {
   "cell_type": "code",
   "execution_count": 12,
   "id": "bc7f7569-f864-4535-8559-edc702bc03ad",
   "metadata": {
    "tags": []
   },
   "outputs": [
    {
     "data": {
      "image/png": "[encoded data removed]",
      "text/plain": [
       "<Figure size 1000x1000 with 1 Axes>"
      ]
     },
     "metadata": {},
     "output_type": "display_data"
    }
   ],
   "source": [
    "# Load image\n",
    "test_image = cle.imread(test_data + \"b-cropped-renamed/e2.tif\")\n",
    "\n",
    "# Show image\n",
    "fig, axs = plt.subplots(1, 2, figsize=(10, 10))\n",
    "\n",
    "# Remove unwanted subplots slot\n",
    "axs[1].remove()\n",
    "\n",
    "# Show intensity image and scale bar\n",
    "cle.imshow(test_image[15, 0:80, 0:80], plot = axs[0])\n",
    "cle.imshow(scale_bar, plot=axs[0], colormap=scale_colour)\n",
    "\n",
    "# Remove ticks\n",
    "axs[0].tick_params(left = False,\n",
    "                right = False,\n",
    "                labelleft = False,\n",
    "                labelbottom = False, \n",
    "                bottom = False)\n",
    "\n",
    "plt.savefig(save_path + \"03-c-test-data-intensity-image.png\",\n",
    "            dpi=300,\n",
    "            bbox_inches=\"tight\")"
   ]
  },
  {
   "cell_type": "markdown",
   "id": "1fc7cefe-03cc-484d-973b-c03a16f9fb85",
   "metadata": {},
   "source": [
    "#### Prediction test data\n",
    "\n",
    "The prediction of the test data image is now computed. On top of that a colormap will be applied where the background is transparent. Here a colormap for napari in jupyter notebocks will be used according to this post on the [image.sc forum](https://forum.image.sc/t/napari-label-colormap/59760)."
   ]
  },
  {
   "cell_type": "code",
   "execution_count": 13,
   "id": "c78c6417-2cbf-4003-8249-c0346f260b87",
   "metadata": {
    "tags": []
   },
   "outputs": [
    {
     "data": {
      "text/plain": [
       "<matplotlib.image.AxesImage at 0x14b5cc2b670>"
      ]
     },
     "execution_count": 13,
     "metadata": {},
     "output_type": "execute_result"
    },
    {
     "data": {
      "image/png": "[encoded data removed]",
      "text/plain": [
       "<Figure size 640x480 with 1 Axes>"
      ]
     },
     "metadata": {},
     "output_type": "display_data"
    }
   ],
   "source": [
    "# Define napari colormap\n",
    "values = np.linspace(0, 1, 10001)\n",
    "vispy_cmap = label_colormap(50)\n",
    "colors = vispy_cmap.map(values)\n",
    "napari_cmap = matplotlib.colors.LinearSegmentedColormap.from_list(\n",
    "    'napari_labels', list(zip(values, colors))\n",
    ")\n",
    "labels = np.arange(256).reshape((16, 16))\n",
    "ldi = np.where(\n",
    "    labels > 0,\n",
    "    low_discrepancy_image(labels),\n",
    "    0,\n",
    ")\n",
    "\n",
    "plt.imshow(ldi, cmap=napari_cmap, vmin=0, vmax=1)"
   ]
  },
  {
   "cell_type": "markdown",
   "id": "7b6938e1-eb1f-4472-8124-77043a39c3d9",
   "metadata": {},
   "source": [
    "Now the prediction is computed and the colormap applied to it."
   ]
  },
  {
   "cell_type": "code",
   "execution_count": 14,
   "id": "a69f7f89-b08c-44e9-a77a-0fa4b44633e5",
   "metadata": {
    "tags": []
   },
   "outputs": [
    {
     "data": {
      "image/png": "[encoded data removed]",
      "text/plain": [
       "<Figure size 1000x1000 with 1 Axes>"
      ]
     },
     "metadata": {},
     "output_type": "display_data"
    }
   ],
   "source": [
    "# Compute prediction\n",
    "prediction = predict_image(image=test_image, classifier=quapos_lm)\n",
    "\n",
    "# Define subplots for prediction\n",
    "fig, axs = plt.subplots(1, 2, figsize=(10,10))\n",
    "\n",
    "# Remove unwanted subplots slot\n",
    "axs[1].remove()\n",
    "\n",
    "# Show prediction\n",
    "cle.imshow(prediction[15, 0:80, 0:80], plot=axs[0], colormap=napari_cmap)\n",
    "\n",
    "# Remove ticks\n",
    "axs[0].tick_params(left = False,\n",
    "                right = False,\n",
    "                labelleft = False,\n",
    "                labelbottom = False, \n",
    "                bottom = False)\n",
    "\n",
    "plt.savefig(save_path + \"03-d-test-data-prediction.png\",\n",
    "            dpi=300,\n",
    "            bbox_inches=\"tight\")"
   ]
  },
  {
   "cell_type": "markdown",
   "id": "ead82825-2c63-498f-9897-5a21b29e138e",
   "metadata": {},
   "source": [
    "#### Ground truth annotation\n",
    "\n",
    "Now the ground truth annotation used for the comparison with its corresponding prediction will be loaded and visualised with the same colormap."
   ]
  },
  {
   "cell_type": "code",
   "execution_count": 15,
   "id": "24699867-9672-45f2-9b69-2c3b857daa2e",
   "metadata": {
    "tags": []
   },
   "outputs": [
    {
     "data": {
      "image/png": "[encoded data removed]",
      "text/plain": [
       "<Figure size 1000x1000 with 1 Axes>"
      ]
     },
     "metadata": {},
     "output_type": "display_data"
    }
   ],
   "source": [
    "# Load ground truth\n",
    "ground_truth_test_data = cle.imread(test_data + \"e-annotation-ground-truth-person-a/e2.tif\")\n",
    "\n",
    "# Define subplots for prediction\n",
    "fig, axs = plt.subplots(1, 2, figsize=(10,10))\n",
    "\n",
    "# Remove unwanted subplots slot\n",
    "axs[1].remove()\n",
    "\n",
    "# Show prediction\n",
    "cle.imshow(ground_truth_test_data[15, 0:80, 0:80], plot=axs[0], colormap=napari_cmap)\n",
    "\n",
    "# Remove ticks\n",
    "axs[0].tick_params(left = False,\n",
    "                right = False,\n",
    "                labelleft = False,\n",
    "                labelbottom = False, \n",
    "                bottom = False)\n",
    "\n",
    "plt.savefig(save_path + \"03-e-test-data-annotation.png\",\n",
    "            dpi=300,\n",
    "            bbox_inches=\"tight\")"
   ]
  }
 ],
 "metadata": {
  "kernelspec": {
   "display_name": "Python 3 (ipykernel)",
   "language": "python",
   "name": "python3"
  },
  "language_info": {
   "codemirror_mode": {
    "name": "ipython",
    "version": 3
   },
   "file_extension": ".py",
   "mimetype": "text/x-python",
   "name": "python",
   "nbconvert_exporter": "python",
   "pygments_lexer": "ipython3",
   "version": "3.9.16"
  }
 },
 "nbformat": 4,
 "nbformat_minor": 5
}
