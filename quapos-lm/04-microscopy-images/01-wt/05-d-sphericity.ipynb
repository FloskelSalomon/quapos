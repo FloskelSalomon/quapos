{
 "cells": [
  {
   "cell_type": "code",
   "execution_count": 1,
   "id": "a3ece9df-d982-4d42-8127-050bfa87b223",
   "metadata": {
    "tags": []
   },
   "outputs": [],
   "source": [
    "import apoc\n",
    "import matplotlib.pyplot as plt\n",
    "import numpy as np\n",
    "import os\n",
    "import pandas as pd\n",
    "import pyclesperanto_prototype as cle\n",
    "\n",
    "from porespy.metrics import regionprops_3D\n",
    "\n",
    "import sys\n",
    "sys.path.append(\"../../../../../../01_python_definitions\")\n",
    "from fluorescent_microscopy_analysis import predict_image, scale_bar_image, heatmap_image, rescale_image"
   ]
  },
  {
   "cell_type": "code",
   "execution_count": 2,
   "id": "555b28bc-2055-436a-b2ac-25487378c4c2",
   "metadata": {
    "tags": []
   },
   "outputs": [
    {
     "data": {
      "text/plain": [
       "{'gaussian_blur=1': 0.32557488170342097,\n",
       " 'difference_of_gaussian=1': 0.4231073391932076,\n",
       " 'laplace_box_of_gaussian_blur=1': 0.25131777910337144}"
      ]
     },
     "execution_count": 2,
     "metadata": {},
     "output_type": "execute_result"
    }
   ],
   "source": [
    "quapos_lm = apoc.ObjectSegmenter(opencl_filename=\"../../01-training-and-validation/2023-07-08-kaspr-version-3.cl\")\n",
    "quapos_lm.feature_importances()"
   ]
  },
  {
   "cell_type": "code",
   "execution_count": 3,
   "id": "9b6c181f-b0fa-411a-b551-db48a903ca35",
   "metadata": {
    "tags": []
   },
   "outputs": [],
   "source": [
    "#define file_path with images\n",
    "file_path = \"C:/Users/fsalo/Documents/studium/02-master_reg_bio/ag-ader-master-thesis/paper-quantification-of-os/figures/results/figure-2-result-classifier/images-microscopy/lm/\"\n",
    "\n",
    "save_path = \"../../plots-images/quapos-paper/sup-fig-3-images/\""
   ]
  },
  {
   "cell_type": "code",
   "execution_count": 4,
   "id": "9557674a-6669-4406-b71b-ada225bf6688",
   "metadata": {
    "tags": []
   },
   "outputs": [
    {
     "data": {
      "text/plain": [
       "['C1-p08-20x-zoom-3.5-replicate-3.tif',\n",
       " 'C1-p12-20x-zoom-flo-2.6-replicate-9.tif',\n",
       " 'C1-p16-20x-zoom-suse-1.5-replicate-19.tif',\n",
       " 'C1-p20-20x-zoom-flo-1.4-replicate-21.tif',\n",
       " 'C1-p24-20x-zoom-1.6-replicate-25.tif']"
      ]
     },
     "execution_count": 4,
     "metadata": {},
     "output_type": "execute_result"
    }
   ],
   "source": [
    "#define a filelist accordingly\n",
    "file_list = os.listdir(file_path)\n",
    "file_list"
   ]
  },
  {
   "cell_type": "code",
   "execution_count": 5,
   "id": "346ef55e-a687-4085-bbcb-dab9d1740b51",
   "metadata": {
    "tags": []
   },
   "outputs": [],
   "source": [
    "image_p08 = cle.imread(file_path + file_list[0])\n",
    "image_p20 = cle.imread(file_path + file_list[3])"
   ]
  },
  {
   "cell_type": "code",
   "execution_count": 6,
   "id": "cfe49896-1567-4f7b-bae5-5b01f723811d",
   "metadata": {
    "tags": []
   },
   "outputs": [],
   "source": [
    "prediction_p08 = predict_image(image=image_p08, classifier=quapos_lm)\n",
    "prediction_p20 = predict_image(image=image_p20, classifier=quapos_lm)"
   ]
  },
  {
   "cell_type": "code",
   "execution_count": 7,
   "id": "5d13cffa-f3ca-43bf-8b78-395dc6024b81",
   "metadata": {
    "tags": []
   },
   "outputs": [],
   "source": [
    "image_p08 = rescale_image(image=image_p08, voxel_x=0.323, voxel_y=0.323, voxel_z=0.490)\n",
    "image_p20 = rescale_image(image=image_p20, voxel_x=0.323, voxel_y=0.323, voxel_z=0.490)"
   ]
  },
  {
   "cell_type": "code",
   "execution_count": 8,
   "id": "54d779a5-750e-4233-aafe-52051c17924d",
   "metadata": {
    "tags": []
   },
   "outputs": [],
   "source": [
    "prediction_p08 = rescale_image(image=prediction_p08, voxel_x=0.323, voxel_y=0.323, voxel_z=0.490)\n",
    "prediction_p20 = rescale_image(image=prediction_p20, voxel_x=0.323, voxel_y=0.323, voxel_z=0.490)"
   ]
  },
  {
   "cell_type": "code",
   "execution_count": 11,
   "id": "5d67ae26-f45e-47d3-aa8e-f7e5f9df30e7",
   "metadata": {
    "tags": []
   },
   "outputs": [],
   "source": [
    "prediction_p08 = prediction_p08 > 0\n",
    "prediction_p08 = cle.connected_components_labeling_diamond(prediction_p08)\n",
    "\n",
    "prediction_p20 = prediction_p20 > 0\n",
    "prediction_p20 = cle.connected_components_labeling_diamond(prediction_p20)"
   ]
  },
  {
   "cell_type": "code",
   "execution_count": 12,
   "id": "6d8a8c4f-6b52-43df-a4f4-5fe68fccf919",
   "metadata": {
    "tags": []
   },
   "outputs": [],
   "source": [
    "scale_bar, cmap = scale_bar_image(image=image_p08[15, 0:200, 600:800],\n",
    "                                  micron_length=0.323,\n",
    "                                  scale_length=25)"
   ]
  },
  {
   "cell_type": "code",
   "execution_count": 13,
   "id": "6322446a-c8b4-4db2-b356-30424db8bb27",
   "metadata": {
    "tags": []
   },
   "outputs": [
    {
     "name": "stdout",
     "output_type": "stream",
     "text": [
      "3 3 lens\n",
      "3 3 lens\n"
     ]
    },
    {
     "data": {
      "image/png": "[encoded data removed]",
      "text/plain": [
       "<Figure size 1000x500 with 2 Axes>"
      ]
     },
     "metadata": {},
     "output_type": "display_data"
    }
   ],
   "source": [
    "fig, axs = plt.subplots(1, 2, figsize=(10, 5))\n",
    "\n",
    "cle.imshow(prediction_p08[..., 0:200, 600:800], plot=axs[0], labels=True)\n",
    "cle.imshow(prediction_p20[..., 90:290, 200:400], plot=axs[1], labels=True)"
   ]
  },
  {
   "cell_type": "code",
   "execution_count": 21,
   "id": "789dfaaf-557a-497f-bc84-ecc477f10863",
   "metadata": {
    "tags": []
   },
   "outputs": [],
   "source": [
    "statistics_p08 = regionprops_3D(im=prediction_p08)\n",
    "sphericity_p08 = []\n",
    "\n",
    "for i, prop in enumerate(statistics_p08):\n",
    "    \n",
    "    sphericity_of_label = prop.sphericity\n",
    "    \n",
    "    dictionary = {\"sphericity\": sphericity_of_label,\n",
    "                  \"label\": i + 1}\n",
    "    \n",
    "    sphericity_p08.append(dictionary)\n",
    "    \n",
    "sphericity_p08 = pd.DataFrame(sphericity_p08)\n",
    "\n",
    "sphericity_map_p08 = heatmap_image(segmentation=prediction_p08,\n",
    "                                   dataframe=sphericity_p08,\n",
    "                                   feature=\"sphericity\")"
   ]
  },
  {
   "cell_type": "code",
   "execution_count": 23,
   "id": "cbc38201-58ec-41fd-83bb-fe2c138294e3",
   "metadata": {
    "tags": []
   },
   "outputs": [],
   "source": [
    "statistics_p20 = regionprops_3D(im=prediction_p20)\n",
    "sphericity_p20 = []\n",
    "\n",
    "for i, prop in enumerate(statistics_p20):\n",
    "    \n",
    "    sphericity_of_label = prop.sphericity\n",
    "    \n",
    "    dictionary = {\"sphericity\": sphericity_of_label,\n",
    "                  \"label\": i + 1}\n",
    "    \n",
    "    sphericity_p20.append(dictionary)\n",
    "    \n",
    "sphericity_p20 = pd.DataFrame(sphericity_p20)\n",
    "\n",
    "sphericity_map_p20 = heatmap_image(segmentation=prediction_p20,\n",
    "                                   dataframe=sphericity_p20,\n",
    "                                   feature=\"sphericity\")"
   ]
  },
  {
   "cell_type": "code",
   "execution_count": 29,
   "id": "52afae0b-1e0c-4a99-bc49-1d9e28ca4ba8",
   "metadata": {
    "tags": []
   },
   "outputs": [
    {
     "name": "stdout",
     "output_type": "stream",
     "text": [
      "3 3 lens\n",
      "3 3 lens\n"
     ]
    },
    {
     "data": {
      "image/png": "[encoded data removed]",
      "text/plain": [
       "<Figure size 1000x500 with 3 Axes>"
      ]
     },
     "metadata": {},
     "output_type": "display_data"
    }
   ],
   "source": [
    "fig, axs = plt.subplots(1, 2, figsize=(10, 5))\n",
    "\n",
    "cle.imshow(sphericity_map_p08[..., 0:200, 600:800], \n",
    "           plot=axs[0], \n",
    "           colormap=\"jet\",\n",
    "           max_display_intensity=1)\n",
    "cle.imshow(scale_bar,\n",
    "           plot=axs[0],\n",
    "           colormap=cmap)\n",
    "axs[0].tick_params(left = False,\n",
    "                right = False,\n",
    "                labelleft = False,\n",
    "                labelbottom = False, \n",
    "                bottom = False)\n",
    "\n",
    "cle.imshow(sphericity_map_p20[..., 90:290, 200:400], \n",
    "           plot=axs[1], \n",
    "           colormap=\"jet\", \n",
    "           colorbar=True,\n",
    "           max_display_intensity=1)\n",
    "cle.imshow(scale_bar,\n",
    "           plot=axs[1],\n",
    "           colormap=cmap)\n",
    "axs[1].tick_params(left = False,\n",
    "                right = False,\n",
    "                labelleft = False,\n",
    "                labelbottom = False, \n",
    "                bottom = False)\n",
    "\n",
    "plt.subplots_adjust(wspace=0.03)\n",
    "\n",
    "plt.savefig(save_path + \"04-sphericity-map.png\",\n",
    "            dpi=300,\n",
    "            bbox_inches=\"tight\")"
   ]
  }
 ],
 "metadata": {
  "kernelspec": {
   "display_name": "Python 3 (ipykernel)",
   "language": "python",
   "name": "python3"
  },
  "language_info": {
   "codemirror_mode": {
    "name": "ipython",
    "version": 3
   },
   "file_extension": ".py",
   "mimetype": "text/x-python",
   "name": "python",
   "nbconvert_exporter": "python",
   "pygments_lexer": "ipython3",
   "version": "3.9.16"
  }
 },
 "nbformat": 4,
 "nbformat_minor": 5
}
