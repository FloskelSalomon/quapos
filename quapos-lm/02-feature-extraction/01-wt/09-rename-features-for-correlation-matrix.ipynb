{
 "cells": [
  {
   "cell_type": "markdown",
   "id": "ba002bd8-24c7-4e83-a168-7545712d96e2",
   "metadata": {},
   "source": [
    "## Rename columns for correlation matrix\n",
    "\n",
    "For better visualisation of the correlation matrix the column names are renamed. This include:\n",
    "\n",
    "- turning bounding box 3, 4, and 5 to their actual width, height, and depth parameters\n",
    "- turning equivalent ellipsoid diameter 0, 1, and 2 into their actual height, width, and depth parameters\n",
    "- removing the \"rescaled\" from the size parameteres\n",
    "- properly label intensity parameters"
   ]
  },
  {
   "cell_type": "code",
   "execution_count": 1,
   "id": "3d8524ed-1e1f-4b0d-836a-ee5edd8334d0",
   "metadata": {
    "tags": []
   },
   "outputs": [],
   "source": [
    "import numpy as np\n",
    "import pandas as pd"
   ]
  },
  {
   "cell_type": "code",
   "execution_count": 2,
   "id": "4c89af24-8239-45eb-ac7e-9e8e5f0c3aca",
   "metadata": {
    "tags": []
   },
   "outputs": [],
   "source": [
    "# Define path with measurements\n",
    "path = \"../../measurements/wt-postnatal-development/\""
   ]
  },
  {
   "cell_type": "code",
   "execution_count": 3,
   "id": "8c1054a7-270d-4d15-89de-600eacfc32aa",
   "metadata": {
    "tags": []
   },
   "outputs": [
    {
     "data": {
      "text/plain": [
       "Index(['label', 'age', 'maximum', 'mean', 'median', 'minimum', 'sigma', 'sum',\n",
       "       'variance', 'flatness', 'elongation', 'sphericity', 'solidity',\n",
       "       'bbox_3_rescaled', 'bbox_4_rescaled', 'bbox_5_rescaled',\n",
       "       'equivalent_ellipsoid_diameter_0_rescaled',\n",
       "       'equivalent_ellipsoid_diameter_1_rescaled',\n",
       "       'equivalent_ellipsoid_diameter_2_rescaled',\n",
       "       'equivalent_spherical_perimeter_rescaled',\n",
       "       'equivalent_spherical_radius_rescaled', 'feret_diameter_rescaled',\n",
       "       'perimeter_2d_rescaled', 'major_axis_length_2d_rescaled',\n",
       "       'minor_axis_length_2d_rescaled', 'surface_area_rescaled',\n",
       "       'bbox_volume_rescaled', 'convex_volume_rescaled', 'volume_rescaled',\n",
       "       'summed_volume_mean'],\n",
       "      dtype='object')"
      ]
     },
     "execution_count": 3,
     "metadata": {},
     "output_type": "execute_result"
    }
   ],
   "source": [
    "# Load measurements and show column names\n",
    "measurements = pd.read_csv(path + \"08-measurements-processed.csv\")\n",
    "\n",
    "# Drop column biological replicate, not necessary for correlation matrix\n",
    "measurements = measurements.drop(labels=\"biol_repl\", axis=1)\n",
    "measurements.keys()"
   ]
  },
  {
   "cell_type": "markdown",
   "id": "1aeb635c-f928-4fd8-9d05-fca8d5f1fee9",
   "metadata": {},
   "source": [
    "### Rename the features\n",
    "\n",
    "To rename the features a dictionary will be defined."
   ]
  },
  {
   "cell_type": "code",
   "execution_count": 4,
   "id": "fcd9a3f4-f4a0-4e91-a714-60aa323ae7f2",
   "metadata": {
    "tags": []
   },
   "outputs": [
    {
     "data": {
      "text/plain": [
       "Index(['label', 'age', 'max_intensity', 'mean_intensity', 'median_intensity',\n",
       "       'minimum_intensity', 'sigma_intensity', 'sum_intensity',\n",
       "       'variance_intensity', 'flatness', 'elongation', 'sphericity',\n",
       "       'solidity', 'bbox_width', 'bbox_height', 'bbox_depth',\n",
       "       'equivalent_ellipsoid_diameter_depth',\n",
       "       'equivalent_ellipsoid_diameter_width',\n",
       "       'equivalent_ellipsoid_diameter_height',\n",
       "       'equivalent_spherical_perimeter', 'equivalent_spherical_radius',\n",
       "       'feret_diamter', 'perimeter_2d', 'major_axis_length_2d',\n",
       "       'minor_axis_length_2d', 'surface_area', 'bbox_volume',\n",
       "       'convex_volume_rescaled', 'volume', 'summed_volume'],\n",
       "      dtype='object')"
      ]
     },
     "execution_count": 4,
     "metadata": {},
     "output_type": "execute_result"
    }
   ],
   "source": [
    "# Define a dictionary with the new column names\n",
    "column_names = {\"label\": \"label\",\n",
    "                \"age\": \"age\",\n",
    "                \"maximum\": \"max_intensity\",\n",
    "                \"mean\": \"mean_intensity\",\n",
    "                \"median\": \"median_intensity\",\n",
    "                \"minimum\": \"minimum_intensity\",\n",
    "                \"sigma\": \"sigma_intensity\",\n",
    "                \"sum\": \"sum_intensity\",\n",
    "                \"variance\": \"variance_intensity\",\n",
    "                \"bbox_3_rescaled\": \"bbox_width\",\n",
    "                \"bbox_4_rescaled\": \"bbox_height\",\n",
    "                \"bbox_5_rescaled\": \"bbox_depth\",\n",
    "                \"equivalent_ellipsoid_diameter_0_rescaled\": \"equivalent_ellipsoid_diameter_depth\",\n",
    "                \"equivalent_ellipsoid_diameter_1_rescaled\": \"equivalent_ellipsoid_diameter_width\",\n",
    "                \"equivalent_ellipsoid_diameter_2_rescaled\": \"equivalent_ellipsoid_diameter_height\",\n",
    "                \"equivalent_spherical_perimeter_rescaled\": \"equivalent_spherical_perimeter\",\n",
    "                \"equivalent_spherical_radius_rescaled\": \"equivalent_spherical_radius\",\n",
    "                \"feret_diameter_rescaled\": \"feret_diamter\",\n",
    "                \"perimeter_2d_rescaled\": \"perimeter_2d\",\n",
    "                \"major_axis_length_2d_rescaled\": \"major_axis_length_2d\",\n",
    "                \"minor_axis_length_2d_rescaled\": \"minor_axis_length_2d\",\n",
    "                \"surface_area_rescaled\": \"surface_area\",\n",
    "                \"bbox_volume_rescaled\": \"bbox_volume\",\n",
    "                \"volume_rescaled\": \"volume\",\n",
    "                \"summed_volume_mean\": \"summed_volume\"}\n",
    "\n",
    "# Rename the column names\n",
    "measurements.rename(columns=column_names, inplace=True)\n",
    "measurements.keys()"
   ]
  },
  {
   "cell_type": "code",
   "execution_count": 5,
   "id": "63fe3407-82e6-4d34-96a0-c3bec0dcd1c6",
   "metadata": {
    "tags": []
   },
   "outputs": [],
   "source": [
    "measurements.to_csv(path + \"09-renamed-for-correlation.csv\", index=False)"
   ]
  }
 ],
 "metadata": {
  "kernelspec": {
   "display_name": "Python 3 (ipykernel)",
   "language": "python",
   "name": "python3"
  },
  "language_info": {
   "codemirror_mode": {
    "name": "ipython",
    "version": 3
   },
   "file_extension": ".py",
   "mimetype": "text/x-python",
   "name": "python",
   "nbconvert_exporter": "python",
   "pygments_lexer": "ipython3",
   "version": "3.9.16"
  }
 },
 "nbformat": 4,
 "nbformat_minor": 5
}
