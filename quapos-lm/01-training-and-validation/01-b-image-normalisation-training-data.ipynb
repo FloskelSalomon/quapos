{
 "cells": [
  {
   "cell_type": "markdown",
   "id": "66ca81f7-364c-4aa4-868a-becf60c0d89b",
   "metadata": {},
   "source": [
    "## Image normalisation training dataset\n",
    "\n",
    "The [previous notebook](01-a-image-normalisation-workflow.ipynb) showed the workflow of the normalisation. Here, the training dataset will be completely normalised."
   ]
  },
  {
   "cell_type": "code",
   "execution_count": 3,
   "id": "4fa87243-5e48-4cf2-877a-24e5e5d79a52",
   "metadata": {
    "tags": []
   },
   "outputs": [],
   "source": [
    "import matplotlib.pyplot as plt\n",
    "import numpy as np\n",
    "import os\n",
    "import pyclesperanto_prototype as cle\n",
    "\n",
    "from tifffile import imwrite\n",
    "\n",
    "import sys\n",
    "sys.path.append(\"..\")\n",
    "from quapos_lm import normalise_image"
   ]
  },
  {
   "cell_type": "markdown",
   "id": "8bcbac7f-c6fe-4db2-8da0-bef817a9b221",
   "metadata": {},
   "source": [
    "### Define path of images and path for saving normalised images"
   ]
  },
  {
   "cell_type": "code",
   "execution_count": 4,
   "id": "08422538-1caa-4636-89a2-199f133116dd",
   "metadata": {
    "tags": []
   },
   "outputs": [],
   "source": [
    "# Define file paths\n",
    "file_path = \"../data/02-data-for-pixel-classifier/training-data/b-cropped-renamed/\"\n",
    "save_path = \"../data/02-data-for-pixel-classifier/training-data/c-normalised/\""
   ]
  },
  {
   "cell_type": "code",
   "execution_count": 7,
   "id": "45891960-f595-4a4c-af93-ed30cb29fa38",
   "metadata": {
    "tags": []
   },
   "outputs": [
    {
     "name": "stdout",
     "output_type": "stream",
     "text": [
      "['a.tif', 'b.tif', 'c.tif', 'd.tif', 'e.tif', 'f.tif', 'g.tif', 'h.tif', 'i.tif', 'j.tif', 'k.tif', 'l.tif', 'm.tif', 'n.tif', 'o.tif', 'p.tif', 'q.tif', 'r.tif', 's.tif', 't.tif', 'u.tif']\n"
     ]
    }
   ],
   "source": [
    "# Define a file list\n",
    "file_list = os.listdir(file_path)\n",
    "print(file_list)"
   ]
  },
  {
   "cell_type": "markdown",
   "id": "9b70c75e-6a16-422c-aa3e-3c55f280d4be",
   "metadata": {},
   "source": [
    "### Normalise all images\n",
    "\n",
    "A for loop will be itterated over the folder to normalise all images."
   ]
  },
  {
   "cell_type": "code",
   "execution_count": null,
   "id": "29174811-9607-4b28-9bd4-8df0de8870bc",
   "metadata": {},
   "outputs": [],
   "source": [
    "# Itterate for loop\n",
    "for i, file_name in enumerate(file_list):\n",
    "    \n",
    "    # Open the image\n",
    "    image = cle.imread(file_path + file_name)\n",
    "    \n",
    "    # Normalise the image\n",
    "    normalised_image = normalise_image(image)\n",
    "    \n",
    "    # Save the image\n",
    "    imwrite(save_path + file_name, normalised_image)"
   ]
  }
 ],
 "metadata": {
  "kernelspec": {
   "display_name": "Python 3 (ipykernel)",
   "language": "python",
   "name": "python3"
  },
  "language_info": {
   "codemirror_mode": {
    "name": "ipython",
    "version": 3
   },
   "file_extension": ".py",
   "mimetype": "text/x-python",
   "name": "python",
   "nbconvert_exporter": "python",
   "pygments_lexer": "ipython3",
   "version": "3.9.16"
  }
 },
 "nbformat": 4,
 "nbformat_minor": 5
}
